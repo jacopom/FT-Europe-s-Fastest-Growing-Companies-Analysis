{
 "cells": [
  {
   "cell_type": "code",
   "execution_count": 1,
   "metadata": {},
   "outputs": [
    {
     "name": "stdout",
     "output_type": "stream",
     "text": [
      "Setup Complete\n"
     ]
    }
   ],
   "source": [
    "from bs4 import BeautifulSoup\n",
    "import requests\n",
    "import pandas as pd\n",
    "import matplotlib.pyplot as plt\n",
    "import numpy as np\n",
    "import seaborn as sns\n",
    "print(\"Setup Complete\")\n"
   ]
  },
  {
   "cell_type": "code",
   "execution_count": 2,
   "metadata": {},
   "outputs": [],
   "source": [
    "\n",
    "webpage = requests.get(\"https://www.ft.com/content/8b37a92b-15e6-4b9c-8427-315a8b5f4332\")\n",
    "\n",
    "soup = BeautifulSoup(webpage.content, \"html.parser\")"
   ]
  },
  {
   "cell_type": "code",
   "execution_count": 62,
   "metadata": {},
   "outputs": [],
   "source": [
    "companyNames = []\n",
    "countries = []\n",
    "categories = []\n",
    "absoluteGrowthRates = []\n",
    "numberOfEmployees = []\n",
    "revenue19 = []\n",
    "\n",
    "for row in soup.findAll('table')[0].tbody.findAll('tr')[1:]:\n",
    "    companyName = row.findAll('td')[1].get_text()\n",
    "    companyNames.append(companyName)\n",
    "    \n",
    "for row in soup.findAll('table')[0].tbody.findAll('tr')[1:]:\n",
    "    country = row.findAll('td')[4].get_text()\n",
    "    countries.append(country)\n",
    "    \n",
    "for row in soup.findAll('table')[0].tbody.findAll('tr')[1:]:\n",
    "    category = row.findAll('td')[5].get_text()\n",
    "    categories.append(category)\n",
    "    \n",
    "for row in soup.findAll('table')[0].tbody.findAll('tr')[1:]:\n",
    "    absoluteGrowthRate = row.findAll('td')[6].get_text().replace(\",\",\"\")[:-1]\n",
    "    absoluteGrowthRates.append(float(absoluteGrowthRate))\n",
    "    \n",
    "for row in soup.findAll('table')[0].tbody.findAll('tr')[1:]:\n",
    "    revenues19 = row.findAll('td')[8].get_text().replace(\",\",\"\")[:-1]\n",
    "    revenue19.append(float(revenues19))\n",
    "    \n",
    "for row in soup.findAll('table')[0].tbody.findAll('tr')[1:]:\n",
    "    numberOfEmployee = row.findAll('td')[10].get_text()\n",
    "    numberOfEmployees.append(float(numberOfEmployee if numberOfEmployee != 'n/a' else 'nan'))\n",
    "    \n"
   ]
  },
  {
   "cell_type": "code",
   "execution_count": 63,
   "metadata": {},
   "outputs": [],
   "source": [
    "companyDict = {\"companyNames\":companyNames, \"countries\": countries, \"categories\":categories, \"absoluteGrowthRates\": absoluteGrowthRates, \"numberOfEmployees\":numberOfEmployees, \"revenue 2019\":revenue19}\n",
    "companyRates_df = pd.DataFrame.from_dict(companyDict)  "
   ]
  },
  {
   "cell_type": "code",
   "execution_count": 64,
   "metadata": {},
   "outputs": [
    {
     "data": {
      "text/html": [
       "<div>\n",
       "<style scoped>\n",
       "    .dataframe tbody tr th:only-of-type {\n",
       "        vertical-align: middle;\n",
       "    }\n",
       "\n",
       "    .dataframe tbody tr th {\n",
       "        vertical-align: top;\n",
       "    }\n",
       "\n",
       "    .dataframe thead th {\n",
       "        text-align: right;\n",
       "    }\n",
       "</style>\n",
       "<table border=\"1\" class=\"dataframe\">\n",
       "  <thead>\n",
       "    <tr style=\"text-align: right;\">\n",
       "      <th></th>\n",
       "      <th>absoluteGrowthRates</th>\n",
       "      <th>numberOfEmployees</th>\n",
       "      <th>revenue 2019</th>\n",
       "    </tr>\n",
       "  </thead>\n",
       "  <tbody>\n",
       "    <tr>\n",
       "      <th>count</th>\n",
       "      <td>999.000000</td>\n",
       "      <td>990.000000</td>\n",
       "      <td>9.990000e+02</td>\n",
       "    </tr>\n",
       "    <tr>\n",
       "      <th>mean</th>\n",
       "      <td>664.089089</td>\n",
       "      <td>90.578788</td>\n",
       "      <td>1.738215e+06</td>\n",
       "    </tr>\n",
       "    <tr>\n",
       "      <th>std</th>\n",
       "      <td>2292.736171</td>\n",
       "      <td>345.605744</td>\n",
       "      <td>5.705049e+06</td>\n",
       "    </tr>\n",
       "    <tr>\n",
       "      <th>min</th>\n",
       "      <td>15.000000</td>\n",
       "      <td>1.000000</td>\n",
       "      <td>1.500000e+05</td>\n",
       "    </tr>\n",
       "    <tr>\n",
       "      <th>25%</th>\n",
       "      <td>187.000000</td>\n",
       "      <td>14.000000</td>\n",
       "      <td>3.179095e+05</td>\n",
       "    </tr>\n",
       "    <tr>\n",
       "      <th>50%</th>\n",
       "      <td>286.000000</td>\n",
       "      <td>33.000000</td>\n",
       "      <td>6.342220e+05</td>\n",
       "    </tr>\n",
       "    <tr>\n",
       "      <th>75%</th>\n",
       "      <td>554.500000</td>\n",
       "      <td>77.750000</td>\n",
       "      <td>1.439177e+06</td>\n",
       "    </tr>\n",
       "    <tr>\n",
       "      <th>max</th>\n",
       "      <td>61837.000000</td>\n",
       "      <td>8389.000000</td>\n",
       "      <td>1.376444e+08</td>\n",
       "    </tr>\n",
       "  </tbody>\n",
       "</table>\n",
       "</div>"
      ],
      "text/plain": [
       "       absoluteGrowthRates  numberOfEmployees  revenue 2019\n",
       "count           999.000000         990.000000  9.990000e+02\n",
       "mean            664.089089          90.578788  1.738215e+06\n",
       "std            2292.736171         345.605744  5.705049e+06\n",
       "min              15.000000           1.000000  1.500000e+05\n",
       "25%             187.000000          14.000000  3.179095e+05\n",
       "50%             286.000000          33.000000  6.342220e+05\n",
       "75%             554.500000          77.750000  1.439177e+06\n",
       "max           61837.000000        8389.000000  1.376444e+08"
      ]
     },
     "execution_count": 64,
     "metadata": {},
     "output_type": "execute_result"
    }
   ],
   "source": [
    "companyRates_df.describe()"
   ]
  },
  {
   "cell_type": "code",
   "execution_count": 65,
   "metadata": {},
   "outputs": [
    {
     "data": {
      "text/plain": [
       "Italy          268\n",
       "Germany        204\n",
       "France         162\n",
       "UK             131\n",
       "Spain           54\n",
       "Poland          31\n",
       "Sweden          24\n",
       "Netherlands     22\n",
       "Finland         13\n",
       "Estonia          9\n",
       "Name: countries, dtype: int64"
      ]
     },
     "execution_count": 65,
     "metadata": {},
     "output_type": "execute_result"
    }
   ],
   "source": [
    "companyRates_df.countries.value_counts().nlargest(10)"
   ]
  },
  {
   "cell_type": "code",
   "execution_count": 66,
   "metadata": {},
   "outputs": [
    {
     "name": "stdout",
     "output_type": "stream",
     "text": [
      "countries\n",
      "Latvia         12605.400000\n",
      "Estonia         1215.333333\n",
      "Austria         1033.333333\n",
      "UK              1026.648855\n",
      "Poland           915.741935\n",
      "Netherlands      886.681818\n",
      "Sweden           870.291667\n",
      "Bulgaria         812.500000\n",
      "Greece           773.250000\n",
      "Slovakia         772.000000\n",
      "Name: absoluteGrowthRates, dtype: float64\n"
     ]
    }
   ],
   "source": [
    "mean_vals = companyRates_df.groupby(\"countries\").absoluteGrowthRates.mean()\n",
    "tenBest = mean_vals.nlargest(10)\n",
    "print(tenBest)"
   ]
  },
  {
   "cell_type": "code",
   "execution_count": 67,
   "metadata": {},
   "outputs": [
    {
     "data": {
      "image/png": "[encoded data removed]",
      "text/plain": [
       "<Figure size 432x288 with 1 Axes>"
      ]
     },
     "metadata": {
      "needs_background": "light"
     },
     "output_type": "display_data"
    }
   ],
   "source": [
    "plt.hist(companyRates_df.numberOfEmployees, bins=1000)\n",
    "plt.title(\"Employees distribution\")\n",
    "plt.xlabel(\"numberOfEmployees\")\n",
    "plt.ylabel(\"Frequency\")\n",
    "plt.xlim(1, 300)\n",
    "plt.show()"
   ]
  },
  {
   "cell_type": "code",
   "execution_count": 68,
   "metadata": {},
   "outputs": [
    {
     "data": {
      "image/png": "[encoded data removed]",
      "text/plain": [
       "<Figure size 432x288 with 1 Axes>"
      ]
     },
     "metadata": {
      "needs_background": "light"
     },
     "output_type": "display_data"
    }
   ],
   "source": [
    "category_type = pd.value_counts(companyRates_df['categories'].values, sort=True)\n",
    "\n",
    "ax = category_type.plot(kind='bar', title='Number of companies by category')\n",
    "ax.set(xlabel='category', ylabel='Number of companies')\n",
    "plt.xlim(right=10)\n",
    "plt.show()"
   ]
  },
  {
   "cell_type": "code",
   "execution_count": 69,
   "metadata": {},
   "outputs": [
    {
     "data": {
      "image/png": "[encoded data removed]",
      "text/plain": [
       "<Figure size 432x288 with 1 Axes>"
      ]
     },
     "metadata": {
      "needs_background": "light"
     },
     "output_type": "display_data"
    }
   ],
   "source": [
    "italianCompanies =  companyRates_df['countries']==\"Italy\"\n",
    "italianCompanies_df = companyRates_df[italianCompanies]\n",
    "\n",
    "category_type = pd.value_counts(italianCompanies_df['categories'].values, sort=True)\n",
    "\n",
    "ax = category_type.plot(kind='bar', title='Number of italian companies by category')\n",
    "ax.set(xlabel='category', ylabel='Number of companies')\n",
    "plt.xlim(right=10)\n",
    "plt.show()"
   ]
  },
  {
   "cell_type": "code",
   "execution_count": 79,
   "metadata": {},
   "outputs": [
    {
     "data": {
      "text/html": [
       "<div>\n",
       "<style scoped>\n",
       "    .dataframe tbody tr th:only-of-type {\n",
       "        vertical-align: middle;\n",
       "    }\n",
       "\n",
       "    .dataframe tbody tr th {\n",
       "        vertical-align: top;\n",
       "    }\n",
       "\n",
       "    .dataframe thead th {\n",
       "        text-align: right;\n",
       "    }\n",
       "</style>\n",
       "<table border=\"1\" class=\"dataframe\">\n",
       "  <thead>\n",
       "    <tr style=\"text-align: right;\">\n",
       "      <th></th>\n",
       "      <th>companyNames</th>\n",
       "      <th>countries</th>\n",
       "      <th>categories</th>\n",
       "      <th>absoluteGrowthRates</th>\n",
       "      <th>numberOfEmployees</th>\n",
       "      <th>revenue 2019</th>\n",
       "    </tr>\n",
       "  </thead>\n",
       "  <tbody>\n",
       "    <tr>\n",
       "      <th>66</th>\n",
       "      <td>Mia-Platform</td>\n",
       "      <td>Italy</td>\n",
       "      <td>Technology</td>\n",
       "      <td>1622.0</td>\n",
       "      <td>40.0</td>\n",
       "      <td>495640.0</td>\n",
       "    </tr>\n",
       "    <tr>\n",
       "      <th>77</th>\n",
       "      <td>Bending Spoons</td>\n",
       "      <td>Italy</td>\n",
       "      <td>Technology</td>\n",
       "      <td>1489.0</td>\n",
       "      <td>128.0</td>\n",
       "      <td>7498953.0</td>\n",
       "    </tr>\n",
       "    <tr>\n",
       "      <th>88</th>\n",
       "      <td>Alias Group</td>\n",
       "      <td>Italy</td>\n",
       "      <td>Technology</td>\n",
       "      <td>1363.0</td>\n",
       "      <td>12.0</td>\n",
       "      <td>356673.0</td>\n",
       "    </tr>\n",
       "    <tr>\n",
       "      <th>123</th>\n",
       "      <td>Ubiquicom</td>\n",
       "      <td>Italy</td>\n",
       "      <td>Technology</td>\n",
       "      <td>1111.0</td>\n",
       "      <td>18.0</td>\n",
       "      <td>314107.0</td>\n",
       "    </tr>\n",
       "    <tr>\n",
       "      <th>128</th>\n",
       "      <td>Ayes</td>\n",
       "      <td>Italy</td>\n",
       "      <td>Technology</td>\n",
       "      <td>1055.0</td>\n",
       "      <td>141.0</td>\n",
       "      <td>836545.0</td>\n",
       "    </tr>\n",
       "    <tr>\n",
       "      <th>144</th>\n",
       "      <td>Sixth Sense</td>\n",
       "      <td>Italy</td>\n",
       "      <td>Technology</td>\n",
       "      <td>963.0</td>\n",
       "      <td>5.0</td>\n",
       "      <td>261095.0</td>\n",
       "    </tr>\n",
       "    <tr>\n",
       "      <th>153</th>\n",
       "      <td>Contrader</td>\n",
       "      <td>Italy</td>\n",
       "      <td>Technology</td>\n",
       "      <td>908.0</td>\n",
       "      <td>38.0</td>\n",
       "      <td>254933.0</td>\n",
       "    </tr>\n",
       "    <tr>\n",
       "      <th>242</th>\n",
       "      <td>Vmway</td>\n",
       "      <td>Italy</td>\n",
       "      <td>Technology</td>\n",
       "      <td>608.0</td>\n",
       "      <td>56.0</td>\n",
       "      <td>1379622.0</td>\n",
       "    </tr>\n",
       "    <tr>\n",
       "      <th>255</th>\n",
       "      <td>Uqido</td>\n",
       "      <td>Italy</td>\n",
       "      <td>Technology</td>\n",
       "      <td>589.0</td>\n",
       "      <td>30.0</td>\n",
       "      <td>198866.0</td>\n",
       "    </tr>\n",
       "    <tr>\n",
       "      <th>383</th>\n",
       "      <td>Agile Lab</td>\n",
       "      <td>Italy</td>\n",
       "      <td>Technology</td>\n",
       "      <td>422.0</td>\n",
       "      <td>33.0</td>\n",
       "      <td>497456.0</td>\n",
       "    </tr>\n",
       "    <tr>\n",
       "      <th>454</th>\n",
       "      <td>Crispy Bacon</td>\n",
       "      <td>Italy</td>\n",
       "      <td>Technology</td>\n",
       "      <td>357.0</td>\n",
       "      <td>40.0</td>\n",
       "      <td>272683.0</td>\n",
       "    </tr>\n",
       "    <tr>\n",
       "      <th>455</th>\n",
       "      <td>Ddm Solutions</td>\n",
       "      <td>Italy</td>\n",
       "      <td>Technology</td>\n",
       "      <td>357.0</td>\n",
       "      <td>11.0</td>\n",
       "      <td>224259.0</td>\n",
       "    </tr>\n",
       "    <tr>\n",
       "      <th>586</th>\n",
       "      <td>Targa Telematics</td>\n",
       "      <td>Italy</td>\n",
       "      <td>Technology</td>\n",
       "      <td>271.0</td>\n",
       "      <td>100.0</td>\n",
       "      <td>4000682.0</td>\n",
       "    </tr>\n",
       "    <tr>\n",
       "      <th>593</th>\n",
       "      <td>Temera</td>\n",
       "      <td>Italy</td>\n",
       "      <td>Technology</td>\n",
       "      <td>268.0</td>\n",
       "      <td>62.0</td>\n",
       "      <td>1670169.0</td>\n",
       "    </tr>\n",
       "    <tr>\n",
       "      <th>665</th>\n",
       "      <td>E-Novia</td>\n",
       "      <td>Italy</td>\n",
       "      <td>Technology</td>\n",
       "      <td>239.0</td>\n",
       "      <td>117.0</td>\n",
       "      <td>908551.0</td>\n",
       "    </tr>\n",
       "    <tr>\n",
       "      <th>35</th>\n",
       "      <td>Gellify</td>\n",
       "      <td>Italy</td>\n",
       "      <td>Technology</td>\n",
       "      <td>234.0</td>\n",
       "      <td>41.0</td>\n",
       "      <td>354813.0</td>\n",
       "    </tr>\n",
       "    <tr>\n",
       "      <th>692</th>\n",
       "      <td>Iungo</td>\n",
       "      <td>Italy</td>\n",
       "      <td>Technology</td>\n",
       "      <td>228.0</td>\n",
       "      <td>45.0</td>\n",
       "      <td>452841.0</td>\n",
       "    </tr>\n",
       "    <tr>\n",
       "      <th>722</th>\n",
       "      <td>Florence Consulting Group</td>\n",
       "      <td>Italy</td>\n",
       "      <td>Technology</td>\n",
       "      <td>220.0</td>\n",
       "      <td>70.0</td>\n",
       "      <td>952834.0</td>\n",
       "    </tr>\n",
       "    <tr>\n",
       "      <th>735</th>\n",
       "      <td>E.D. Elettronica Dedicata</td>\n",
       "      <td>Italy</td>\n",
       "      <td>Technology</td>\n",
       "      <td>215.0</td>\n",
       "      <td>13.0</td>\n",
       "      <td>177723.0</td>\n",
       "    </tr>\n",
       "    <tr>\n",
       "      <th>749</th>\n",
       "      <td>Quence</td>\n",
       "      <td>Italy</td>\n",
       "      <td>Technology</td>\n",
       "      <td>210.0</td>\n",
       "      <td>28.0</td>\n",
       "      <td>249074.0</td>\n",
       "    </tr>\n",
       "    <tr>\n",
       "      <th>750</th>\n",
       "      <td>Next04</td>\n",
       "      <td>Italy</td>\n",
       "      <td>Technology</td>\n",
       "      <td>209.0</td>\n",
       "      <td>15.0</td>\n",
       "      <td>306885.0</td>\n",
       "    </tr>\n",
       "    <tr>\n",
       "      <th>809</th>\n",
       "      <td>Antherica</td>\n",
       "      <td>Italy</td>\n",
       "      <td>Technology</td>\n",
       "      <td>192.0</td>\n",
       "      <td>3.0</td>\n",
       "      <td>162620.0</td>\n",
       "    </tr>\n",
       "    <tr>\n",
       "      <th>838</th>\n",
       "      <td>Information Sharing Company</td>\n",
       "      <td>Italy</td>\n",
       "      <td>Technology</td>\n",
       "      <td>185.0</td>\n",
       "      <td>105.0</td>\n",
       "      <td>753311.0</td>\n",
       "    </tr>\n",
       "    <tr>\n",
       "      <th>876</th>\n",
       "      <td>Mashfrog Group</td>\n",
       "      <td>Italy</td>\n",
       "      <td>Technology</td>\n",
       "      <td>176.0</td>\n",
       "      <td>349.0</td>\n",
       "      <td>2623524.0</td>\n",
       "    </tr>\n",
       "    <tr>\n",
       "      <th>892</th>\n",
       "      <td>Nohup</td>\n",
       "      <td>Italy</td>\n",
       "      <td>Technology</td>\n",
       "      <td>172.0</td>\n",
       "      <td>18.0</td>\n",
       "      <td>330528.0</td>\n",
       "    </tr>\n",
       "    <tr>\n",
       "      <th>942</th>\n",
       "      <td>Coolshop</td>\n",
       "      <td>Italy</td>\n",
       "      <td>Technology</td>\n",
       "      <td>161.0</td>\n",
       "      <td>63.0</td>\n",
       "      <td>495416.0</td>\n",
       "    </tr>\n",
       "    <tr>\n",
       "      <th>401</th>\n",
       "      <td>Doit</td>\n",
       "      <td>Italy</td>\n",
       "      <td>Technology</td>\n",
       "      <td>40.0</td>\n",
       "      <td>33.0</td>\n",
       "      <td>250000.0</td>\n",
       "    </tr>\n",
       "    <tr>\n",
       "      <th>857</th>\n",
       "      <td>Mailup</td>\n",
       "      <td>Italy</td>\n",
       "      <td>Technology</td>\n",
       "      <td>18.0</td>\n",
       "      <td>237.0</td>\n",
       "      <td>5926930.0</td>\n",
       "    </tr>\n",
       "  </tbody>\n",
       "</table>\n",
       "</div>"
      ],
      "text/plain": [
       "                    companyNames countries  categories  absoluteGrowthRates  \\\n",
       "66                  Mia-Platform     Italy  Technology               1622.0   \n",
       "77                Bending Spoons     Italy  Technology               1489.0   \n",
       "88                   Alias Group     Italy  Technology               1363.0   \n",
       "123                    Ubiquicom     Italy  Technology               1111.0   \n",
       "128                         Ayes     Italy  Technology               1055.0   \n",
       "144                  Sixth Sense     Italy  Technology                963.0   \n",
       "153                    Contrader     Italy  Technology                908.0   \n",
       "242                        Vmway     Italy  Technology                608.0   \n",
       "255                        Uqido     Italy  Technology                589.0   \n",
       "383                    Agile Lab     Italy  Technology                422.0   \n",
       "454                 Crispy Bacon     Italy  Technology                357.0   \n",
       "455                Ddm Solutions     Italy  Technology                357.0   \n",
       "586             Targa Telematics     Italy  Technology                271.0   \n",
       "593                       Temera     Italy  Technology                268.0   \n",
       "665                      E-Novia     Italy  Technology                239.0   \n",
       "35                       Gellify     Italy  Technology                234.0   \n",
       "692                        Iungo     Italy  Technology                228.0   \n",
       "722    Florence Consulting Group     Italy  Technology                220.0   \n",
       "735    E.D. Elettronica Dedicata     Italy  Technology                215.0   \n",
       "749                       Quence     Italy  Technology                210.0   \n",
       "750                       Next04     Italy  Technology                209.0   \n",
       "809                    Antherica     Italy  Technology                192.0   \n",
       "838  Information Sharing Company     Italy  Technology                185.0   \n",
       "876               Mashfrog Group     Italy  Technology                176.0   \n",
       "892                        Nohup     Italy  Technology                172.0   \n",
       "942                     Coolshop     Italy  Technology                161.0   \n",
       "401                         Doit     Italy  Technology                 40.0   \n",
       "857                       Mailup     Italy  Technology                 18.0   \n",
       "\n",
       "     numberOfEmployees  revenue 2019  \n",
       "66                40.0      495640.0  \n",
       "77               128.0     7498953.0  \n",
       "88                12.0      356673.0  \n",
       "123               18.0      314107.0  \n",
       "128              141.0      836545.0  \n",
       "144                5.0      261095.0  \n",
       "153               38.0      254933.0  \n",
       "242               56.0     1379622.0  \n",
       "255               30.0      198866.0  \n",
       "383               33.0      497456.0  \n",
       "454               40.0      272683.0  \n",
       "455               11.0      224259.0  \n",
       "586              100.0     4000682.0  \n",
       "593               62.0     1670169.0  \n",
       "665              117.0      908551.0  \n",
       "35                41.0      354813.0  \n",
       "692               45.0      452841.0  \n",
       "722               70.0      952834.0  \n",
       "735               13.0      177723.0  \n",
       "749               28.0      249074.0  \n",
       "750               15.0      306885.0  \n",
       "809                3.0      162620.0  \n",
       "838              105.0      753311.0  \n",
       "876              349.0     2623524.0  \n",
       "892               18.0      330528.0  \n",
       "942               63.0      495416.0  \n",
       "401               33.0      250000.0  \n",
       "857              237.0     5926930.0  "
      ]
     },
     "execution_count": 79,
     "metadata": {},
     "output_type": "execute_result"
    }
   ],
   "source": [
    "italianCompanies_df[italianCompanies_df['categories']==\"Technology\"].sort_values(by=['absoluteGrowthRates'], ascending=False)"
   ]
  },
  {
   "cell_type": "code",
   "execution_count": 71,
   "metadata": {},
   "outputs": [
    {
     "name": "stdout",
     "output_type": "stream",
     "text": [
      "categories\n",
      "Support Services         362.750000\n",
      "Insurance                256.750000\n",
      "Financial Services       236.428571\n",
      "Fintech                  126.218750\n",
      "Management Consulting    114.607843\n",
      "Technology               110.105991\n",
      "Transport                106.666667\n",
      "Restaurants               88.625000\n",
      "Travel & Leisure          88.000000\n",
      "Telecoms                  84.384615\n",
      "Name: numberOfEmployees, dtype: float64\n"
     ]
    }
   ],
   "source": [
    "mean_vals = companyRates_df.groupby(\"categories\").numberOfEmployees.mean()\n",
    "tenBest = mean_vals.nlargest(10)\n",
    "print(tenBest)"
   ]
  },
  {
   "cell_type": "code",
   "execution_count": 72,
   "metadata": {},
   "outputs": [
    {
     "name": "stdout",
     "output_type": "stream",
     "text": [
      "categories\n",
      "Fintech               3096.625000\n",
      "Batteries             2625.666667\n",
      "Energy                1003.487805\n",
      "Interiors              852.400000\n",
      "Technology             787.561644\n",
      "Food & Beverage        666.312500\n",
      "Financial Services     631.619048\n",
      "Fashion                600.222222\n",
      "Insurance              598.250000\n",
      "Health                 569.880000\n",
      "Name: absoluteGrowthRates, dtype: float64\n"
     ]
    }
   ],
   "source": [
    "mean_vals = companyRates_df.groupby(\"categories\").absoluteGrowthRates.mean()\n",
    "tenBest = mean_vals.nlargest(10)\n",
    "print(tenBest)"
   ]
  },
  {
   "cell_type": "code",
   "execution_count": 73,
   "metadata": {},
   "outputs": [
    {
     "data": {
      "image/png": "[encoded data removed]",
      "text/plain": [
       "<Figure size 432x288 with 1 Axes>"
      ]
     },
     "metadata": {
      "needs_background": "light"
     },
     "output_type": "display_data"
    }
   ],
   "source": [
    "plt.scatter(companyRates_df.numberOfEmployees, companyRates_df.absoluteGrowthRates)\n",
    "plt.axis([0, 1000, 0, 10000])\n",
    "plt.xlabel('Number Of Employees')\n",
    "plt.ylabel('Absolute Growth Rates')\n",
    "\n",
    "plt.show()"
   ]
  },
  {
   "cell_type": "code",
   "execution_count": 74,
   "metadata": {},
   "outputs": [
    {
     "data": {
      "text/plain": [
       "<AxesSubplot:>"
      ]
     },
     "execution_count": 74,
     "metadata": {},
     "output_type": "execute_result"
    },
    {
     "data": {
      "image/png": "[encoded data removed]",
      "text/plain": [
       "<Figure size 432x288 with 2 Axes>"
      ]
     },
     "metadata": {
      "needs_background": "light"
     },
     "output_type": "display_data"
    }
   ],
   "source": [
    "Var_Corr = companyRates_df.corr()\n",
    "sns.heatmap(Var_Corr, xticklabels=Var_Corr.columns, yticklabels=Var_Corr.columns, annot=True)"
   ]
  },
  {
   "cell_type": "code",
   "execution_count": null,
   "metadata": {},
   "outputs": [],
   "source": []
  },
  {
   "cell_type": "code",
   "execution_count": null,
   "metadata": {},
   "outputs": [],
   "source": []
  }
 ],
 "metadata": {
  "kernelspec": {
   "display_name": "Python 3 (ipykernel)",
   "language": "python",
   "name": "python3"
  }
 },
 "nbformat": 4,
 "nbformat_minor": 4
}
